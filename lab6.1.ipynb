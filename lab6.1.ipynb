{
 "cells": [
  {
   "cell_type": "code",
   "execution_count": 1,
   "metadata": {},
   "outputs": [
    {
     "name": "stdout",
     "output_type": "stream",
     "text": [
      "Hello Thanwarat\n"
     ]
    }
   ],
   "source": [
    "print(\"Hello Thanwarat\")\n"
   ]
  },
  {
   "cell_type": "code",
   "execution_count": 2,
   "metadata": {},
   "outputs": [
    {
     "name": "stdout",
     "output_type": "stream",
     "text": [
      "30\n"
     ]
    }
   ],
   "source": [
    "a = 10\n",
    "b = 20\n",
    "print(a+b)"
   ]
  },
  {
   "cell_type": "code",
   "execution_count": 3,
   "metadata": {},
   "outputs": [
    {
     "name": "stdout",
     "output_type": "stream",
     "text": [
      "Hello 0\n",
      "Hello 1\n",
      "Hello 2\n",
      "Hello 3\n",
      "Hello 4\n",
      "Hello 5\n",
      "Hello 6\n",
      "Hello 7\n",
      "Hello 8\n",
      "Hello 9\n"
     ]
    }
   ],
   "source": [
    "for i in range(10):\n",
    "    print(\"Hello %d\" %i)\n"
   ]
  },
  {
   "cell_type": "code",
   "execution_count": 2,
   "metadata": {},
   "outputs": [
    {
     "name": "stdout",
     "output_type": "stream",
     "text": [
      "68.0\n",
      "293.15\n"
     ]
    }
   ],
   "source": [
    "def Fa(C):\n",
    "    F = 9/5*C+32\n",
    "    return F\n",
    "\n",
    "def Ka(C):\n",
    "    K = C+273.15\n",
    "    return K\n",
    "\n",
    "c = float(input(\"องศาเซลเซียส\"))\n",
    "print(Fa(c))\n",
    "print(Ka(c))"
   ]
  }
 ],
 "metadata": {
  "kernelspec": {
   "display_name": "Python 3",
   "language": "python",
   "name": "python3"
  },
  "language_info": {
   "codemirror_mode": {
    "name": "ipython",
    "version": 3
   },
   "file_extension": ".py",
   "mimetype": "text/x-python",
   "name": "python",
   "nbconvert_exporter": "python",
   "pygments_lexer": "ipython3",
   "version": "3.12.3"
  }
 },
 "nbformat": 4,
 "nbformat_minor": 2
}
