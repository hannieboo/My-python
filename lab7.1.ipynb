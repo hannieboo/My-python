{
 "cells": [
  {
   "cell_type": "code",
   "execution_count": 22,
   "metadata": {},
   "outputs": [
    {
     "name": "stdout",
     "output_type": "stream",
     "text": [
      "คุณ fg\n",
      "เงินเดือน 20000.00\n",
      "ชั่วโมงล่วงเวลา 90 \n",
      "เงินล่วงเวลา 13500.00\n",
      "เงินเดือนทั้งหมด 33500.00\n"
     ]
    }
   ],
   "source": [
    "def salary(name, salary, ot_hours):\n",
    "    if (ot_hours <= 40):\n",
    "        overtimes = ot_hours * 100\n",
    "    else:\n",
    "        overtimes = ot_hours * 150\n",
    "    \n",
    "    total = salary + overtimes\n",
    "\n",
    "    print(f\"คุณ %s\" %name)\n",
    "    print(f\"เงินเดือน %.2f\" %salary)\n",
    "    print(f\"ชั่วโมงล่วงเวลา %d \" %ot_hours)\n",
    "    print(f\"เงินล่วงเวลา %.2f\" %overtimes)\n",
    "    print(f\"เงินเดือนทั้งหมด %.2f\" %total)\n",
    "\n",
    "name = input(\"ชื่อพนักงาน: \")\n",
    "s = int(input(\"เงินเดือน: \"))\n",
    "ot_hours = int(input(\"ชั่วโมงล่วงเวลา: \"))\n",
    "salary(name,s,ot_hours)\n"
   ]
  }
 ],
 "metadata": {
  "kernelspec": {
   "display_name": "Python 3",
   "language": "python",
   "name": "python3"
  },
  "language_info": {
   "codemirror_mode": {
    "name": "ipython",
    "version": 3
   },
   "file_extension": ".py",
   "mimetype": "text/x-python",
   "name": "python",
   "nbconvert_exporter": "python",
   "pygments_lexer": "ipython3",
   "version": "3.12.3"
  }
 },
 "nbformat": 4,
 "nbformat_minor": 2
}
